{
 "cells": [
  {
   "cell_type": "markdown",
   "metadata": {},
   "source": [
    "<p style=\"font-family: Arial; font-size:3.75em;color:black; font-style:bold\">\n",
    "Mini Project</p> \n",
    "<br>\n",
    "## IMDb Data Set\n",
    "https://grouplens.org/datasets/movielens/\n",
    "<br> ml-20m.zip "
   ]
  },
  {
   "cell_type": "code",
   "execution_count": 1,
   "metadata": {},
   "outputs": [],
   "source": [
    "import pandas as pd\n",
    "import csv"
   ]
  },
  {
   "cell_type": "code",
   "execution_count": 2,
   "metadata": {},
   "outputs": [
    {
     "name": "stdout",
     "output_type": "stream",
     "text": [
      "Icon?             genome-scores.csv links.csv         ratings.csv\r\n",
      "README.txt        genome-tags.csv   movies.csv        tags.csv\r\n"
     ]
    }
   ],
   "source": [
    "# Contents of Data Set Zip\n",
    "\n",
    "!ls ./movielens"
   ]
  },
  {
   "cell_type": "code",
   "execution_count": 3,
   "metadata": {},
   "outputs": [],
   "source": [
    "#movies = pd.read_csv('./movielens/movies.csv', sep=',')\n",
    "#print(type(movies))\n",
    "#movies.head(5)"
   ]
  },
  {
   "cell_type": "code",
   "execution_count": null,
   "metadata": {},
   "outputs": [],
   "source": []
  },
  {
   "cell_type": "code",
   "execution_count": 4,
   "metadata": {},
   "outputs": [
    {
     "data": {
      "text/plain": [
       "\"\\nfor line in movies:\\n    if '1995' in line:\\n        year_1995.append(line)\\n\""
      ]
     },
     "execution_count": 4,
     "metadata": {},
     "output_type": "execute_result"
    }
   ],
   "source": [
    "movies = csv.reader(open('./movielens/movies.csv','r'))\n",
    "\n",
    "years = []\n",
    "year_1995 = []\n",
    "\n",
    "for line in movies:\n",
    "    line = ''.join(line)\n",
    "    #print(line)\n",
    "    \n",
    "    if '(1900)' in line:\n",
    "        year_1995.append(line)    \n",
    "'''\n",
    "for line in movies:\n",
    "    if '1995' in line:\n",
    "        year_1995.append(line)\n",
    "'''        "
   ]
  },
  {
   "cell_type": "code",
   "execution_count": 5,
   "metadata": {},
   "outputs": [
    {
     "name": "stdout",
     "output_type": "stream",
     "text": [
      "['117909The Kiss (1900)Romance']\n"
     ]
    }
   ],
   "source": [
    "print(year_1995)"
   ]
  },
  {
   "cell_type": "code",
   "execution_count": 6,
   "metadata": {},
   "outputs": [
    {
     "name": "stdout",
     "output_type": "stream",
     "text": [
      "1\n"
     ]
    }
   ],
   "source": [
    "print(len(year_1995))"
   ]
  },
  {
   "cell_type": "code",
   "execution_count": null,
   "metadata": {},
   "outputs": [],
   "source": []
  },
  {
   "cell_type": "code",
   "execution_count": 14,
   "metadata": {},
   "outputs": [
    {
     "name": "stdout",
     "output_type": "stream",
     "text": [
      "27256\n"
     ]
    }
   ],
   "source": [
    "movies = csv.reader(open('./movielens/movies.csv','r'))\n",
    "\n",
    "years = []\n",
    "\n",
    "\n",
    "\n",
    "for line in movies:\n",
    "    line = ''.join(line)\n",
    "    #print(line)\n",
    "\n",
    "    for i in range(1800, 2020):\n",
    "        year_parentheses = '(' + str(i) + ')'\n",
    "        year_list_name = 'years_' + str(i)\n",
    "\n",
    "        if year_parentheses in line:\n",
    "            years.append(line)\n",
    "            #print(i)\n",
    "\n",
    "    \n",
    "    \n",
    "print(len(years))    \n",
    "#print(years)"
   ]
  },
  {
   "cell_type": "code",
   "execution_count": 8,
   "metadata": {},
   "outputs": [
    {
     "name": "stdout",
     "output_type": "stream",
     "text": [
      "27279\n"
     ]
    }
   ],
   "source": [
    "# Discrepency in 27,256 row being read versus 27,279 in the original is probably due to a few lines omitting dates\n",
    "\n",
    "with open('./movielens/movies.csv',\"r\") as f:\n",
    "    reader = csv.reader(f,delimiter = \",\")\n",
    "    data = list(reader)\n",
    "    row_count = len(data)\n",
    "    print(row_count)"
   ]
  },
  {
   "cell_type": "code",
   "execution_count": null,
   "metadata": {},
   "outputs": [],
   "source": []
  },
  {
   "cell_type": "code",
   "execution_count": 9,
   "metadata": {},
   "outputs": [
    {
     "name": "stdout",
     "output_type": "stream",
     "text": [
      "{'year_1800': [], 'year_1801': [], 'year_1802': [], 'year_1803': [], 'year_1804': [], 'year_1805': [], 'year_1806': [], 'year_1807': [], 'year_1808': [], 'year_1809': [], 'year_1810': [], 'year_1811': [], 'year_1812': [], 'year_1813': [], 'year_1814': [], 'year_1815': [], 'year_1816': [], 'year_1817': [], 'year_1818': [], 'year_1819': [], 'year_1820': [], 'year_1821': [], 'year_1822': [], 'year_1823': [], 'year_1824': [], 'year_1825': [], 'year_1826': [], 'year_1827': [], 'year_1828': [], 'year_1829': [], 'year_1830': [], 'year_1831': [], 'year_1832': [], 'year_1833': [], 'year_1834': [], 'year_1835': [], 'year_1836': [], 'year_1837': [], 'year_1838': [], 'year_1839': [], 'year_1840': [], 'year_1841': [], 'year_1842': [], 'year_1843': [], 'year_1844': [], 'year_1845': [], 'year_1846': [], 'year_1847': [], 'year_1848': [], 'year_1849': [], 'year_1850': [], 'year_1851': [], 'year_1852': [], 'year_1853': [], 'year_1854': [], 'year_1855': [], 'year_1856': [], 'year_1857': [], 'year_1858': [], 'year_1859': [], 'year_1860': [], 'year_1861': [], 'year_1862': [], 'year_1863': [], 'year_1864': [], 'year_1865': [], 'year_1866': [], 'year_1867': [], 'year_1868': [], 'year_1869': [], 'year_1870': [], 'year_1871': [], 'year_1872': [], 'year_1873': [], 'year_1874': [], 'year_1875': [], 'year_1876': [], 'year_1877': [], 'year_1878': [], 'year_1879': [], 'year_1880': [], 'year_1881': [], 'year_1882': [], 'year_1883': [], 'year_1884': [], 'year_1885': [], 'year_1886': [], 'year_1887': [], 'year_1888': [], 'year_1889': [], 'year_1890': [], 'year_1891': [], 'year_1892': [], 'year_1893': [], 'year_1894': [], 'year_1895': [], 'year_1896': [], 'year_1897': [], 'year_1898': [], 'year_1899': [], 'year_1900': [], 'year_1901': [], 'year_1902': [], 'year_1903': [], 'year_1904': [], 'year_1905': [], 'year_1906': [], 'year_1907': [], 'year_1908': [], 'year_1909': [], 'year_1910': [], 'year_1911': [], 'year_1912': [], 'year_1913': [], 'year_1914': [], 'year_1915': [], 'year_1916': [], 'year_1917': [], 'year_1918': [], 'year_1919': [], 'year_1920': [], 'year_1921': [], 'year_1922': [], 'year_1923': [], 'year_1924': [], 'year_1925': [], 'year_1926': [], 'year_1927': [], 'year_1928': [], 'year_1929': [], 'year_1930': [], 'year_1931': [], 'year_1932': [], 'year_1933': [], 'year_1934': [], 'year_1935': [], 'year_1936': [], 'year_1937': [], 'year_1938': [], 'year_1939': [], 'year_1940': [], 'year_1941': [], 'year_1942': [], 'year_1943': [], 'year_1944': [], 'year_1945': [], 'year_1946': [], 'year_1947': [], 'year_1948': [], 'year_1949': [], 'year_1950': [], 'year_1951': [], 'year_1952': [], 'year_1953': [], 'year_1954': [], 'year_1955': [], 'year_1956': [], 'year_1957': [], 'year_1958': [], 'year_1959': [], 'year_1960': [], 'year_1961': [], 'year_1962': [], 'year_1963': [], 'year_1964': [], 'year_1965': [], 'year_1966': [], 'year_1967': [], 'year_1968': [], 'year_1969': [], 'year_1970': [], 'year_1971': [], 'year_1972': [], 'year_1973': [], 'year_1974': [], 'year_1975': [], 'year_1976': [], 'year_1977': [], 'year_1978': [], 'year_1979': [], 'year_1980': [], 'year_1981': [], 'year_1982': [], 'year_1983': [], 'year_1984': [], 'year_1985': [], 'year_1986': [], 'year_1987': [], 'year_1988': [], 'year_1989': [], 'year_1990': [], 'year_1991': [], 'year_1992': [], 'year_1993': [], 'year_1994': [], 'year_1995': [], 'year_1996': [], 'year_1997': [], 'year_1998': [], 'year_1999': [], 'year_2000': [], 'year_2001': [], 'year_2002': [], 'year_2003': [], 'year_2004': [], 'year_2005': [], 'year_2006': [], 'year_2007': [], 'year_2008': [], 'year_2009': [], 'year_2010': [], 'year_2011': [], 'year_2012': [], 'year_2013': [], 'year_2014': [], 'year_2015': [], 'year_2016': [], 'year_2017': [], 'year_2018': [], 'year_2019': []}\n"
     ]
    }
   ],
   "source": [
    "# Need to figure out a way to read each line into appropriate dictionary key value\n",
    "\n",
    "\n",
    "movies = csv.reader(open('./movielens/movies.csv','r'))\n",
    "\n",
    "years = []\n",
    "\n",
    "\n",
    "\n",
    "for line in movies:\n",
    "    line = ''.join(line)  # converts lines to String\n",
    "    #print(line)\n",
    "\n",
    "    for i in range(1800, 2020):\n",
    "        year_parentheses = '(' + str(i) + ')'\n",
    "        year_list_name = 'years_' + str(i)\n",
    "\n",
    "        if year_parentheses in line:\n",
    "            years.append(line)\n",
    "            #print(i)\n",
    "\n",
    "\n",
    "\n",
    "\n",
    "x = range(1800,2020)\n",
    "dct = {}\n",
    "for i in x:\n",
    "    dct['year_%s' % i] = []\n",
    "\n",
    "print(dct)"
   ]
  },
  {
   "cell_type": "code",
   "execution_count": null,
   "metadata": {},
   "outputs": [],
   "source": []
  },
  {
   "cell_type": "code",
   "execution_count": 10,
   "metadata": {},
   "outputs": [
    {
     "name": "stdout",
     "output_type": "stream",
     "text": [
      "118\n"
     ]
    }
   ],
   "source": [
    "movies = csv.reader(open('./movielens/movies.csv','r'))\n",
    "\n",
    "\n",
    "dct = {}\n",
    "\n",
    "for line in movies:\n",
    "    line = ''.join(line)  # converts lines to String\n",
    "    \n",
    "    #i = 1800\n",
    "    \n",
    "    for i in range(1800, 2020):\n",
    "        year_parentheses = '(' + str(i) + ')'\n",
    "        \n",
    "        if year_parentheses in line:\n",
    "            dct['year_%s' % i] = [line]\n",
    "        i = i + 1\n",
    "        \n",
    "print(len(dct))"
   ]
  },
  {
   "cell_type": "markdown",
   "metadata": {},
   "source": [
    "As a dictionary"
   ]
  },
  {
   "cell_type": "code",
   "execution_count": 11,
   "metadata": {},
   "outputs": [
    {
     "name": "stdout",
     "output_type": "stream",
     "text": [
      "{'1995': ['131128Flodder 3 (1995)Comedy'], '1994': ['131142Voll Normaaal (1994)Comedy'], '1996': ['131144Werner - Das muss kesseln!!! (1996)Animation|Comedy'], '1976': ['130984Santo vs. las lobas (1976)Action|Fantasy|Horror'], '1992': ['130996The Beautiful Story (1992)Adventure|Drama|Fantasy'], '1993': ['128738Rigoletto (1993)Drama'], '1977': ['129646Kill a Rat (1977)Crime|Drama|Mystery'], '1965': ['129978Mission Bloody Mary (1965)Adventure'], '1982': ['129751The Beehive (1982)Drama'], '1985': ['130978Love and Pigeons (1985)Comedy|Romance'], '1990': ['130804The Fourth War (1990)Drama|Thriller'], '1991': ['131158Manta, Manta (1991)Comedy'], '1989': ['130958Killer Crocodile (1989)Horror'], '1937': ['126296I Met Him in Paris (1937)Comedy|Romance'], '1940': ['121376Pride of the Bowery (1940)Comedy|Drama'], '1969': ['131104The Brain (1969)Comedy|Crime'], '1981': ['129881Il cappotto di legno (1981)(no genres listed)'], '1970': ['130828No Place to Hide (1970)Thriller'], '1968': ['128810Scandali nudi (1968)(no genres listed)'], '1980': ['130408A Rumor Of War (1980)(no genres listed)'], '1988': ['130586Itinerary of a Spoiled Child (1988)Adventure|Drama'], '1975': ['130504Fear Over the City (1975)Action|Crime|Drama'], '1986': ['131052Die Weihnachtsklempner (1986)Comedy'], '1948': ['129187Lost Youth (1948)(no genres listed)'], '1943': ['125605Jubilation Street (1943)(no genres listed)'], '1964': ['127040Fantomas (1964)Adventure|Comedy|Crime|Fantasy'], '1950': ['126931Girl with Hyacinths (1950)Drama|Mystery'], '1946': ['129185The Testimony (1946)(no genres listed)'], '1973': ['130420Outrage (1973)Crime|Drama|Thriller'], '1997': ['131132Kleines Arschloch - Der Film (1997)Animation|Comedy'], '1974': ['129879Orders Signed in White (1974)(no genres listed)'], '1972': ['131031La liga no es cosa de hombres (1972)(no genres listed)'], '1998': ['131094Rudolph the Red-Nosed Reindeer: The Movie (1998)Animation|Children'], '06': ['8891-900 (06) (1994)Drama|Romance'], '1933': [\"126032Betty Boop's Hallowe'en Party (1933)Animation|Comedy|Horror\"], '1952': ['129430Murder on Monday (1952)Crime|Drama|Mystery'], '1951': ['129516Poison (1951)Comedy'], '1957': ['128916The Indifferent Beauty (1957)(no genres listed)'], '1961': ['128792The Joy of Living (1961)Comedy'], '1958': ['129701The Robot vs. the Aztec Mummy (1958)Horror|Sci-Fi'], '1954': ['129847Somewhere Under the Broad Sky (1954)(no genres listed)'], '1934': ['130394The Mascot (1934)Animation'], '1944': ['130016Lodger, The (1944)Crime|Horror|Mystery|Thriller'], '1959': ['129419The Facts of Murder (1959)Crime|Drama'], '1960': ['128858Wasteland (1960)Drama'], '1963': ['130532I giorni contati (1963)(no genres listed)'], '1942': ['125555Bowery at Midnight (1942)Action|Comedy|Horror'], '1941': ['129555So Ends Our Night (1941)Drama|War'], '1953': ['129421Jealousy (1953)Drama'], '1939': ['128277Break-in (1939)Comedy'], '1947': ['127013The Devil Thumbs a Ride (1947)Drama|Film-Noir'], '1945': ['127046Pursuit to Algiers (1945)Adventure|Crime|Mystery|Romance'], '1955': ['126937Journey to the Beginning of Time (1955)Adventure|Children|Fantasy'], '1938': ['126309Vessel of Wrath (1938)Drama'], '1935': ['126436Cosmic Journey (1935)Sci-Fi'], '1936': ['127015The Man Who Lived Again (1936)Horror|Sci-Fi'], '1956': ['131025The Brass Legend (1956)Action'], '1926': ['126957The Open Road (1926)Documentary'], '1949': ['129709The Walking Hills (1949)Western'], '1932': ['125405Hot Saturday (1932)Drama'], '1971': ['130656The 21 Carat Snatch (1971)Crime'], '1979': ['129873Gardenia (1979)Crime'], '1967': ['127070The Vengeance of Fu Manchu (1967)Action|Crime|Drama|Horror'], '1987': ['130834Dancers (1987)(no genres listed)'], '1978': ['131102Lucky Luke: The Ballad of the Daltons (1978)Animation|Children|Comedy|Western'], '1962': ['128209Madison Avenue (1962)Drama'], '1983': ['130040Mo (1983)Horror'], '1984': ['130746Bolero (1984)Drama|Romance'], '1931': [\"126092The Cat's Out (1931)Animation\"], '1999': ['131154Die Bademeister – Weiber, saufen, Leben retten (1999)Comedy'], '1927': ['97026Upstream (1927)Comedy|Drama'], '1929': ['126102Bouncing Babies (1929)Comedy'], '1930': [\"125956It's a Bird (1930)(no genres listed)\"], '1966': ['131152The Fat Spy (1966)Comedy'], '1928': ['123139The Divine Woman (1928)(no genres listed)'], '1925': ['122373The Vanishing American (1925)Western'], '1914': ['127054Gertie the Dinosaur (1914)Animation|Children|Comedy'], '2000': ['131250No More School (2000)Comedy'], '1919': [\"117905Sir Arne's Treasure (1919)Drama\"], '1923': ['122397The White Sister (1923)Drama|Romance'], '1922': ['120208Flesh and Blood (1922)Drama'], '1920': ['126997The Monastery of Sendomir (1920)Drama'], '1918': ['107632Carmen (1918)Drama'], '1921': [\"128924The 'High Sign' (1921)Comedy\"], '2001': ['131260Rentun Ruusu (2001)(no genres listed)'], '2002': ['131256Feuer, Eis & Dosenbier (2002)Comedy'], '2003': ['131243Werner - Gekotzt wird später (2003)Animation|Comedy'], '1915': ['126991The Sea Vultures (1915)Drama'], '1924': ['126959The Epic of Everest (1924)Documentary'], '2004': ['131112Night of the Living Dorks (2004)Comedy|Horror'], '1916': ['126040The Mystery of the Leaping Fish (1916)Comedy'], '1917': ['126993The Girl from the Marsh Croft (1917)(no genres listed)'], '2005': ['131126Erkan & Stefan 3 (2005)Comedy'], '2006': ['131248Brother Bear 2 (2006)Adventure|Animation|Children|Comedy|Fantasy'], '1903': ['49389Great Train Robbery, The (1903)Crime|Western'], '2007': [\"131254Kein Bund für's Leben (2007)Comedy\"], '2008': [\"131110A House of Secrets: Exploring 'Dragonwyck' (2008)Documentary\"], '2009': ['131166WWII IN HD (2009)(no genres listed)'], '500': ['69757(500) Days of Summer (2009)Comedy|Drama|Romance'], '2010': ['131237What Men Talk About (2010)Comedy'], '1913': ['82007Ingeborg Holm (1913)Drama'], '2011': ['131239Three Quarter Moon (2011)Comedy|Drama'], '1894': ['94951Dickson Experimental Sound Film (1894)Musical'], '1912': ['126989The Gardener (1912)(no genres listed)'], '2012': ['131096Russendisko (2012)Comedy'], '1910': ['105776Trip to Mars, A (1910)Sci-Fi'], '1898': ['129849Old Man Drinking a Glass of Beer (1898)(no genres listed)'], '1901': ['94737Boys Diving, Honolulu (1901)Documentary'], '1893': ['95541Blacksmith Scene (1893)(no genres listed)'], '2013': ['131172Closed Curtain (2013)(no genres listed)'], '1896': ['98981Arrival of a Train, The (1896)Documentary'], '69': ['100741Sixtynine (69) (1969)Drama'], '2014': ['131262Innocence (2014)Adventure|Fantasy|Horror'], '1895': ['120869Employees Leaving the Lumière Factory (1895)Documentary'], '2015': ['131180Dead Rising: Watchtower (2015)Action|Horror|Thriller'], '1909': ['120803Those Awful Hats (1909)Comedy'], '1900': ['117909The Kiss (1900)Romance'], '1905': ['125996The Black Devil (1905)Comedy|Fantasy'], '1891': ['129851Dickson Greeting (1891)(no genres listed)']}\n"
     ]
    }
   ],
   "source": [
    "movies = csv.reader(open('./movielens/movies.csv','r'))\n",
    "\n",
    "years = {}\n",
    "\n",
    "for line in movies:\n",
    "    line = ''.join(line)\n",
    "    \n",
    "    year = line[line.find(\"(\") + 1 : line.find(\")\") ]\n",
    "    \n",
    "    if year.isdigit():\n",
    "        #print(year + \"|\" + line)     # List all the years from each line\n",
    "        years[year] = [line]\n",
    "\n",
    "\n",
    "\n",
    "print(years)"
   ]
  },
  {
   "cell_type": "markdown",
   "metadata": {},
   "source": [
    "As a list"
   ]
  },
  {
   "cell_type": "code",
   "execution_count": 13,
   "metadata": {},
   "outputs": [
    {
     "name": "stdout",
     "output_type": "stream",
     "text": [
      "22059\n",
      "119\n",
      "[7, 69, 501, 1891, 1893, 1894, 1895, 1898, 1901, 1901, 1902, 1903, 1905, 1910, 1911, 1913, 1915, 1916, 1916, 1917, 1918, 1918, 1919, 1935, 1936, 1939, 1941, 1943, 1951, 1951, 1957, 1959, 1961, 1965, 1967, 1972, 1975, 1975, 1976, 1978, 1979, 1979, 1981, 1981, 1981, 1982, 1982, 1983, 1983, 1983, 1983, 1983, 1987, 1995, 1997, 1998, 1999, 1999, 2006, 2006, 2007, 2007, 2009, 2010, 2011, 2011, 2011, 2012, 2012, 2013, 2013, 2013, 2013, 2014, 2014, 2014, 2014, 2015, 2015, 2015, 2015, 2015, 2015, 2015, 2025, 2027, 2027, 2030, 2031, 2031, 2031, 2031, 2031, 2033, 2034, 2035, 2037, 2038, 2038, 2039, 2041, 2042, 2043, 2043, 2044, 2045, 2045, 2045, 2046, 2047, 2047, 2047, 2047, 2047, 2047, 2047]\n"
     ]
    },
    {
     "data": {
      "image/png": "[encoded data removed]",
      "text/plain": [
       "<matplotlib.figure.Figure at 0x104310550>"
      ]
     },
     "metadata": {},
     "output_type": "display_data"
    }
   ],
   "source": [
    "from collections import Counter\n",
    "import matplotlib.pyplot as plt\n",
    "import numpy as np\n",
    "%matplotlib inline\n",
    "\n",
    "\n",
    "movies = csv.reader(open('./movielens/movies.csv','r'))\n",
    "\n",
    "\n",
    "\n",
    "years = []\n",
    "\n",
    "for line in movies:\n",
    "    line = ''.join(line)\n",
    "    \n",
    "    year = line[line.find(\"(\") + 1 : line.find(\")\") ]\n",
    "    \n",
    "    if year.isdigit():\n",
    "        #print(year + \"|\" + line)     # List all the years from each line\n",
    "        years.append(int(year))\n",
    "\n",
    "print(len(years)) # 22,059 is the number of lines with years included\n",
    "\n",
    "\n",
    "C = Counter(years)\n",
    "year_list_of_lists = [[k,]*v for k,v in C.items()]\n",
    "print(len(year_list_of_lists)) # 119 unique years\n",
    "#print(year_list_of_lists)\n",
    "\n",
    "\n",
    "\n",
    "unique_years = [item[0] for item in year_list_of_lists]\n",
    "#print(len(unique_years))\n",
    "\n",
    "\n",
    "sorted_years = sorted(unique_years)\n",
    "#print(sorted_years)\n",
    "\n",
    "\n",
    "x_axis = []\n",
    "y_axis = []\n",
    "graph_pairs = []\n",
    "r = 0\n",
    "while r < 119:\n",
    "    year_num = year_list_of_lists[0 + r][0]\n",
    "    entries_num = len(year_list_of_lists[0 + r])\n",
    "    \n",
    "    x_axis.append(year_num)\n",
    "    y_axis.append(entries_num)\n",
    "    \n",
    "    plt.bar(x_axis, y_axis, label='Movie Entries by Year') # Create Bar Graph\n",
    "    ax = plt.gca()\n",
    "    ax.set_xlim([1890, 2020])\n",
    "    \n",
    "    ### Change the size of the plot and save it to folder as PNG\n",
    "    fig = plt.gcf()\n",
    "    fig.set_size_inches(18.5, 10.5)\n",
    "    fig.savefig('test2019.png', dpi=100)\n",
    "    \n",
    "    \n",
    "        \n",
    "    combo = str(year_num) + \"|\" + str(entries_num)\n",
    "    #print(combo)\n",
    "    \n",
    "    graph_pairs.append(year_num | entries_num)\n",
    "    \n",
    "    r = r + 1\n",
    "    \n",
    "    plt.xlabel('Year')\n",
    "    plt.ylabel('Number of Films')\n",
    "    plt.title('Movie Entries by Year')\n",
    "\n",
    "#print(graph)\n",
    "\n",
    "graph_pairs.sort()\n",
    "print(graph_pairs[0:-3])\n"
   ]
  },
  {
   "cell_type": "code",
   "execution_count": null,
   "metadata": {},
   "outputs": [],
   "source": []
  },
  {
   "cell_type": "code",
   "execution_count": null,
   "metadata": {},
   "outputs": [],
   "source": []
  }
 ],
 "metadata": {
  "kernelspec": {
   "display_name": "Python 3",
   "language": "python",
   "name": "python3"
  },
  "language_info": {
   "codemirror_mode": {
    "name": "ipython",
    "version": 3
   },
   "file_extension": ".py",
   "mimetype": "text/x-python",
   "name": "python",
   "nbconvert_exporter": "python",
   "pygments_lexer": "ipython3",
   "version": "3.6.4"
  }
 },
 "nbformat": 4,
 "nbformat_minor": 2
}
